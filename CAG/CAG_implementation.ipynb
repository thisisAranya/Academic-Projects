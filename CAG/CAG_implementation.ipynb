{
  "nbformat": 4,
  "nbformat_minor": 0,
  "metadata": {
    "colab": {
      "provenance": [],
      "gpuType": "T4",
      "authorship_tag": "ABX9TyPOuC1/lS+K68s4j/GZ1J9J",
      "include_colab_link": true
    },
    "kernelspec": {
      "name": "python3",
      "display_name": "Python 3"
    },
    "language_info": {
      "name": "python"
    },
    "accelerator": "GPU"
  },
  "cells": [
    {
      "cell_type": "markdown",
      "metadata": {
        "id": "view-in-github",
        "colab_type": "text"
      },
      "source": [
        "<a href=\"https://colab.research.google.com/github/thisisAranya/Academic-Projects/blob/main/CAG/CAG_implementation.ipynb\" target=\"_parent\"><img src=\"https://colab.research.google.com/assets/colab-badge.svg\" alt=\"Open In Colab\"/></a>"
      ]
    },
    {
      "cell_type": "code",
      "execution_count": 1,
      "metadata": {
        "colab": {
          "base_uri": "https://localhost:8080/"
        },
        "id": "ujL173YGw5Uu",
        "outputId": "c357d6c7-693d-49fc-f2d4-cb98aa3d7091"
      },
      "outputs": [
        {
          "output_type": "stream",
          "name": "stdout",
          "text": [
            "Cloning into 'CAG'...\n",
            "remote: Enumerating objects: 316, done.\u001b[K\n",
            "remote: Counting objects: 100% (37/37), done.\u001b[K\n",
            "remote: Compressing objects: 100% (18/18), done.\u001b[K\n",
            "remote: Total 316 (delta 25), reused 20 (delta 19), pack-reused 279 (from 1)\u001b[K\n",
            "Receiving objects: 100% (316/316), 3.04 MiB | 9.63 MiB/s, done.\n",
            "Resolving deltas: 100% (201/201), done.\n"
          ]
        }
      ],
      "source": [
        "!git clone https://github.com/hhhuang/CAG.git"
      ]
    },
    {
      "cell_type": "code",
      "source": [
        "%cd /content/CAG"
      ],
      "metadata": {
        "colab": {
          "base_uri": "https://localhost:8080/"
        },
        "id": "6YSVswtxxrkY",
        "outputId": "aa1c497b-0e36-444d-ce1c-615446339c23"
      },
      "execution_count": 2,
      "outputs": [
        {
          "output_type": "stream",
          "name": "stdout",
          "text": [
            "/content/CAG\n"
          ]
        }
      ]
    },
    {
      "cell_type": "code",
      "source": [
        "!pip install -r ./requirements.txt"
      ],
      "metadata": {
        "collapsed": true,
        "id": "BbQavkxFxD8s"
      },
      "execution_count": null,
      "outputs": []
    },
    {
      "cell_type": "code",
      "source": [
        "!pip install numpy==1.24.3"
      ],
      "metadata": {
        "collapsed": true,
        "id": "VvHS2-Pq0fn_"
      },
      "execution_count": null,
      "outputs": []
    },
    {
      "cell_type": "code",
      "source": [
        "%cd /content/CAG"
      ],
      "metadata": {
        "colab": {
          "base_uri": "https://localhost:8080/"
        },
        "id": "V8XKOyEm4_TQ",
        "outputId": "91b1115b-8b89-4072-dcdb-f57cfd6e81bd"
      },
      "execution_count": 3,
      "outputs": [
        {
          "output_type": "stream",
          "name": "stdout",
          "text": [
            "/content/CAG\n"
          ]
        }
      ]
    },
    {
      "cell_type": "code",
      "source": [
        "!sh ./downloads.sh\n",
        "!cp ./.env.template ./.env"
      ],
      "metadata": {
        "colab": {
          "base_uri": "https://localhost:8080/"
        },
        "collapsed": true,
        "id": "cZDdKNjixMqm",
        "outputId": "217d13ba-391c-4ed5-8972-7368c41dee8f"
      },
      "execution_count": 5,
      "outputs": [
        {
          "output_type": "stream",
          "name": "stdout",
          "text": [
            "  % Total    % Received % Xferd  Average Speed   Time    Time     Time  Current\n",
            "                                 Dload  Upload   Total   Spent    Left  Speed\n",
            "  0     0    0     0    0     0      0      0 --:--:-- --:--:-- --:--:--     0\n",
            "100 8937k  100 8937k    0     0  4153k      0  0:00:02  0:00:02 --:--:-- 5766k\n",
            "Archive:  ./datasets/squad/stanford-question-answering-dataset.zip\n",
            "replace ./datasets/squad/dev-v1.1.json? [y]es, [n]o, [A]ll, [N]one, [r]ename: A\n",
            "  inflating: ./datasets/squad/dev-v1.1.json  \n",
            "  inflating: ./datasets/squad/train-v1.1.json  \n",
            "  % Total    % Received % Xferd  Average Speed   Time    Time     Time  Current\n",
            "                                 Dload  Upload   Total   Spent    Left  Speed\n",
            "  0     0    0     0    0     0      0      0 --:--:-- --:--:-- --:--:--     0\n",
            "100  241M  100  241M    0     0  19.4M      0  0:00:12  0:00:12 --:--:-- 22.7M\n",
            "Archive:  ./datasets/hotpotqa/hotpotqa-question-answering-dataset.zip\n",
            "replace ./datasets/hotpotqa/hotpot_dev_distractor_v1.json? [y]es, [n]o, [A]ll, [N]one, [r]ename: A\n",
            "  inflating: ./datasets/hotpotqa/hotpot_dev_distractor_v1.json  \n",
            "  inflating: ./datasets/hotpotqa/hotpot_dev_fullwiki_v1.json  \n",
            "  inflating: ./datasets/hotpotqa/hotpot_test_fullwiki_v1.json  \n",
            "  inflating: ./datasets/hotpotqa/hotpot_train_v1.1.json  \n"
          ]
        }
      ]
    },
    {
      "cell_type": "code",
      "source": [
        "!python ./kvcache.py --kvcache file --dataset \"squad-train\" --similarity bertscore \\\n",
        "    --maxKnowledge 5 --maxParagraph 10 --maxQuestion 20  \\\n",
        "    --modelname 'unsloth/Llama-3.2-3B-Instruct' --randomSeed 0 \\\n",
        "    --output \"./result_kvcache.txt\""
      ],
      "metadata": {
        "colab": {
          "base_uri": "https://localhost:8080/"
        },
        "collapsed": true,
        "id": "uo3eWiD2xjmm",
        "outputId": "b9416dd8-0d5a-4a6f-a4e4-6d6c6edf345b"
      },
      "execution_count": 6,
      "outputs": [
        {
          "output_type": "stream",
          "name": "stdout",
          "text": [
            "2025-01-19 00:09:50.930153: E external/local_xla/xla/stream_executor/cuda/cuda_fft.cc:485] Unable to register cuFFT factory: Attempting to register factory for plugin cuFFT when one has already been registered\n",
            "2025-01-19 00:09:50.952661: E external/local_xla/xla/stream_executor/cuda/cuda_dnn.cc:8454] Unable to register cuDNN factory: Attempting to register factory for plugin cuDNN when one has already been registered\n",
            "2025-01-19 00:09:50.960673: E external/local_xla/xla/stream_executor/cuda/cuda_blas.cc:1452] Unable to register cuBLAS factory: Attempting to register factory for plugin cuBLAS when one has already been registered\n",
            "2025-01-19 00:09:50.978088: I tensorflow/core/platform/cpu_feature_guard.cc:210] This TensorFlow binary is optimized to use available CPU instructions in performance-critical operations.\n",
            "To enable the following instructions: AVX2 AVX512F FMA, in other operations, rebuild TensorFlow with the appropriate compiler flags.\n",
            "2025-01-19 00:09:52.054099: W tensorflow/compiler/tf2tensorrt/utils/py_utils.cc:38] TF-TRT Warning: Could not find TensorRT\n",
            "modules.json: 100% 349/349 [00:00<00:00, 2.60MB/s]\n",
            "config_sentence_transformers.json: 100% 116/116 [00:00<00:00, 734kB/s]\n",
            "README.md: 100% 10.7k/10.7k [00:00<00:00, 49.3MB/s]\n",
            "sentence_bert_config.json: 100% 53.0/53.0 [00:00<00:00, 326kB/s]\n",
            "config.json: 100% 612/612 [00:00<00:00, 5.57MB/s]\n",
            "model.safetensors: 100% 90.9M/90.9M [00:00<00:00, 218MB/s]\n",
            "tokenizer_config.json: 100% 350/350 [00:00<00:00, 2.24MB/s]\n",
            "vocab.txt: 100% 232k/232k [00:00<00:00, 1.09MB/s]\n",
            "tokenizer.json: 100% 466k/466k [00:00<00:00, 2.14MB/s]\n",
            "special_tokens_map.json: 100% 112/112 [00:00<00:00, 909kB/s]\n",
            "1_Pooling/config.json: 100% 190/190 [00:00<00:00, 1.39MB/s]\n",
            "maxKnowledge 5 maxParagraph 10 maxQuestion 20 randomeSeed 0\n",
            "tokenizer_config.json: 100% 54.6k/54.6k [00:00<00:00, 167MB/s]\n",
            "tokenizer.json: 100% 17.2M/17.2M [00:00<00:00, 37.4MB/s]\n",
            "special_tokens_map.json: 100% 454/454 [00:00<00:00, 3.72MB/s]\n",
            "config.json: 100% 979/979 [00:00<00:00, 7.60MB/s]\n",
            "model.safetensors: 100% 6.43G/6.43G [02:32<00:00, 42.1MB/s]\n",
            "generation_config.json: 100% 234/234 [00:00<00:00, 1.71MB/s]\n",
            "max_knowledge 5 max_paragraph 10 max_questions 20\n",
            "kvlen:  6484\n",
            "KVcache prepared in 6.74669623374939 seconds\n",
            "Q:  When was the title of prime minister first used?\n",
            "A:   The first actual usage of the term \"prime minister\" was used by Cardinal Richelieu in 1625 when he was named to head the royal council as prime minister of France.\n",
            "[0]: Semantic Similarity: 0.15724, cache time: 2.384185791015625e-07, generate time: 3.1408190727233887\n",
            "Q:  What year did Bell die?\n",
            "A:   Alexander Graham Bell died in 1922.\n",
            "[1]: Semantic Similarity: 0.48681, cache time: 1.1920928955078125e-06, generate time: 0.7409524917602539\n",
            "Q:  Fields such as business, industry, sports, science, and performing arts incorporate some notion of what into their measuring systems?\n",
            "A:   Time.\n",
            "[2]: Semantic Similarity: 0.83053, cache time: 4.76837158203125e-07, generate time: 0.26625728607177734\n",
            "Q:  What style of grammar does Catalan have?\n",
            "A:   Catalan has an inflectional grammar, with two genders (masculine, feminine), and two numbers (singular, plural).\n",
            "[3]: Semantic Similarity: 0.37329, cache time: 7.152557373046875e-07, generate time: 2.038142681121826\n",
            "Q:  Time is one of the fundamental physical quantities in which two systems?\n",
            "A:   The International System of Units and International System of Quantities.\n",
            "[4]: Semantic Similarity: 0.99343, cache time: 4.76837158203125e-07, generate time: 0.9932701587677002\n",
            "Q:  What numbers does Catalan have?\n",
            "A:   Catalan has two genders (masculine, feminine) and two numbers (singular, plural).\n",
            "[5]: Semantic Similarity: 0.28433, cache time: 7.152557373046875e-07, generate time: 1.50783371925354\n",
            "Q:  The terms GMT and Greenwich Mean Time are also used informally to refer to what?\n",
            "A:   Universal Time (UT).\n",
            "[6]: Semantic Similarity: 0.69098, cache time: 7.152557373046875e-07, generate time: 0.4677853584289551\n",
            "Q:  In what year did Bell's father take him to see an automaton?\n",
            "A:   1863\n",
            "[7]: Semantic Similarity: 1.0, cache time: 4.76837158203125e-07, generate time: 0.3134884834289551\n",
            "Q:  Who were bishops appointed by?\n",
            "A:   Bishops were appointed by feudal lords (kings, dukes, and other landowners).\n",
            "[8]: Semantic Similarity: 0.54987, cache time: 4.76837158203125e-07, generate time: 1.5201988220214844\n",
            "Q:  Bell built his own automaton with who?\n",
            "A:   Bell built his own automaton with his older brother Melville.\n",
            "[9]: Semantic Similarity: 0.42071, cache time: 4.76837158203125e-07, generate time: 1.0743074417114258\n",
            "Q:  What place is Catalan named for?\n",
            "A:   Catalonia\n",
            "[10]: Semantic Similarity: 1.0, cache time: 4.76837158203125e-07, generate time: 0.15816807746887207\n",
            "Q:  What is a mathematical tool used for organizing intervals of time?\n",
            "A:   A calendar.\n",
            "[11]: Semantic Similarity: 0.88684, cache time: 2.384185791015625e-07, generate time: 0.31114888191223145\n",
            "Q:  Who used the term \"barbarous German style\" to portray what is known today as the Gothic style?\n",
            "A:   Giorgio Vasari\n",
            "[12]: Semantic Similarity: 1.0, cache time: 7.152557373046875e-07, generate time: 0.49065542221069336\n",
            "Q:  What sort of mill did Bell's neighbors run?\n",
            "A:   The neighbors of Alexander Graham Bell, his best friend Ben Herdman, ran a flour mill.\n",
            "[13]: Semantic Similarity: 0.32238, cache time: 4.76837158203125e-07, generate time: 1.6118760108947754\n",
            "Q:  The Romanesque style continued to affect and inspire  the basic architectural forms throughout which period?\n",
            "A:   The Romanesque style continued to affect and inspire the basic architectural forms throughout the Medieval period.\n",
            "[14]: Semantic Similarity: 0.44183, cache time: 4.76837158203125e-07, generate time: 1.5502228736877441\n",
            "Q:  Where did some of the other early forms of calendars originate?\n",
            "A:   Early forms of calendars originated in Mesoamerica, particularly in ancient Mayan civilization.\n",
            "[15]: Semantic Similarity: 0.33567, cache time: 4.76837158203125e-07, generate time: 1.4680325984954834\n",
            "Q:  What was Bell's pet's name?\n",
            "A:   The name of Alexander Graham Bell's pet was \"Trouve\", a Skye Terrier.\n",
            "[16]: Semantic Similarity: 0.29826, cache time: 9.5367431640625e-07, generate time: 1.5533959865570068\n",
            "Q:  What is one country that stayed mostly feudal and created spectacular architecture for its royalty rather than its burghers?\n",
            "A:   England\n",
            "[17]: Semantic Similarity: 1.0, cache time: 7.152557373046875e-07, generate time: 0.17332124710083008\n",
            "Q:  What is one time period in which Gothic architecture flourished?\n",
            "A:   The 12th century.\n",
            "[18]: Semantic Similarity: 0.57164, cache time: 7.152557373046875e-07, generate time: 0.5504434108734131\n",
            "Q:  England and what other country showed differences in architectural style rarely observed anywhere else?\n",
            "A:   England and Spain produced defining characteristics rarely seen elsewhere, except where they have been carried by itinerant craftsmen, or the transfer of bishops.\n",
            "[19]: Semantic Similarity: 0.31411, cache time: 4.76837158203125e-07, generate time: 2.355886697769165\n",
            "\n",
            "Prepare time: 6.74669623374939\n",
            "Average Semantic Similarity: 0.5978960081934929\n",
            "cache time: 5.841255187988282e-07,\t generate time: 1.114310336112976\n",
            "\n"
          ]
        }
      ]
    },
    {
      "cell_type": "code",
      "source": [
        "!python ./rag.py --index \"bm25\" --dataset \"squad-train\" --similarity bertscore \\\n",
        "    --maxKnowledge 5 --maxParagraph 10 --maxQuestion 20 --topk 3 \\\n",
        "    --modelname \"unsloth/Llama-3.2-3B-Instruct\" --randomSeed  0 \\\n",
        "    --output  \"./rag_results.txt\""
      ],
      "metadata": {
        "colab": {
          "base_uri": "https://localhost:8080/"
        },
        "collapsed": true,
        "id": "nhDeixW4yRur",
        "outputId": "4a2abe15-f078-43e8-a5ce-8aa5d8d28b99"
      },
      "execution_count": 7,
      "outputs": [
        {
          "output_type": "stream",
          "name": "stdout",
          "text": [
            "2025-01-19 00:13:51.816487: E external/local_xla/xla/stream_executor/cuda/cuda_fft.cc:485] Unable to register cuFFT factory: Attempting to register factory for plugin cuFFT when one has already been registered\n",
            "2025-01-19 00:13:51.836050: E external/local_xla/xla/stream_executor/cuda/cuda_dnn.cc:8454] Unable to register cuDNN factory: Attempting to register factory for plugin cuDNN when one has already been registered\n",
            "2025-01-19 00:13:51.842010: E external/local_xla/xla/stream_executor/cuda/cuda_blas.cc:1452] Unable to register cuBLAS factory: Attempting to register factory for plugin cuBLAS when one has already been registered\n",
            "2025-01-19 00:13:51.856369: I tensorflow/core/platform/cpu_feature_guard.cc:210] This TensorFlow binary is optimized to use available CPU instructions in performance-critical operations.\n",
            "To enable the following instructions: AVX2 AVX512F FMA, in other operations, rebuild TensorFlow with the appropriate compiler flags.\n",
            "2025-01-19 00:13:53.368987: W tensorflow/compiler/tf2tensorrt/utils/py_utils.cc:38] TF-TRT Warning: Could not find TensorRT\n",
            "maxKnowledge 5 maxParagraph 10 maxQuestion 20 randomSeed 0\n",
            "max_knowledge 5 max_paragraph 10 max_questions 20\n",
            "2025-01-19 00:14:31.624646: W external/xla/xla/service/gpu/nvptx_compiler.cc:893] The NVIDIA driver's CUDA version is 12.2 which is older than the PTX compiler version 12.6.85. Because the driver is older than the PTX compiler version, XLA is disabling parallel compilation, which may slow down compilation. You should update your NVIDIA driver or use the NVIDIA-provided CUDA forward compatibility packages.\n",
            "Finding newlines for mmindex: 100% 74.0k/74.0k [00:00<00:00, 318MB/s]\n",
            "Retriever BM25 prepared in 0.04685783386230469 seconds\n",
            "/usr/local/lib/python3.11/dist-packages/transformers/generation/configuration_utils.py:595: UserWarning: `do_sample` is set to `False`. However, `top_p` is set to `0.9` -- this flag is only used in sample-based generation modes. You should set `do_sample=True` or unset `top_p`.\n",
            "  warnings.warn(\n",
            "Q:  When was the title of prime minister first used?\n",
            "A:  The first actual usage of the term \"prime minister\" or \"Premier Ministre\" was by Cardinal Richelieu in 1625.\n",
            "[0]: Semantic Similarity: 0.21151,\t retrieve time: 0.16632914543151855,\t generate time: 3.1005611419677734\n",
            "Q:  What year did Bell die?\n",
            "A:  1922\n",
            "[1]: Semantic Similarity: 1.0,\t retrieve time: 0.00244903564453125,\t generate time: 0.6832664012908936\n",
            "Q:  Fields such as business, industry, sports, science, and performing arts incorporate some notion of what into their measuring systems?\n",
            "A:  Time.\n",
            "[2]: Semantic Similarity: 0.83053,\t retrieve time: 0.0023076534271240234,\t generate time: 0.6832215785980225\n",
            "Q:  What style of grammar does Catalan have?\n",
            "A:  Catalan has an inflectional grammar.\n",
            "[3]: Semantic Similarity: 0.62788,\t retrieve time: 0.0026786327362060547,\t generate time: 0.9163575172424316\n",
            "Q:  Time is one of the fundamental physical quantities in which two systems?\n",
            "A:  The International System of Units and International System of Quantities.\n",
            "[4]: Semantic Similarity: 0.99343,\t retrieve time: 0.003027200698852539,\t generate time: 1.121668815612793\n",
            "Q:  What numbers does Catalan have?\n",
            "A:  2\n",
            "[5]: Semantic Similarity: 0.2966,\t retrieve time: 0.002559661865234375,\t generate time: 0.7300872802734375\n",
            "Q:  The terms GMT and Greenwich Mean Time are also used informally to refer to what?\n",
            "A:  Universal Time (UT).\n",
            "[6]: Semantic Similarity: 0.69098,\t retrieve time: 0.0023005008697509766,\t generate time: 0.7712738513946533\n",
            "Q:  In what year did Bell's father take him to see an automaton?\n",
            "A:  1863\n",
            "[7]: Semantic Similarity: 1.0,\t retrieve time: 0.002396821975708008,\t generate time: 0.7042500972747803\n",
            "Q:  Who were bishops appointed by?\n",
            "A:  Feudal lords (kings, dukes, and other landowners)\n",
            "[8]: Semantic Similarity: 0.8431,\t retrieve time: 0.0021352767944335938,\t generate time: 1.2761085033416748\n",
            "Q:  Bell built his own automaton with who?\n",
            "A:  His older brother Melville.\n",
            "[9]: Semantic Similarity: 0.7785,\t retrieve time: 0.0022554397583007812,\t generate time: 0.8456737995147705\n",
            "Q:  What place is Catalan named for?\n",
            "A:  Catalonia.\n",
            "[10]: Semantic Similarity: 0.97187,\t retrieve time: 0.0020296573638916016,\t generate time: 0.6852095127105713\n",
            "Q:  What is a mathematical tool used for organizing intervals of time?\n",
            "A:  A calendar.\n",
            "[11]: Semantic Similarity: 0.88684,\t retrieve time: 0.002051115036010742,\t generate time: 0.7178494930267334\n",
            "Q:  Who used the term \"barbarous German style\" to portray what is known today as the Gothic style?\n",
            "A:  Giorgio Vasari.\n",
            "[12]: Semantic Similarity: 0.98447,\t retrieve time: 0.0021543502807617188,\t generate time: 0.8360953330993652\n",
            "Q:  What sort of mill did Bell's neighbors run?\n",
            "A:  A flour mill.\n",
            "[13]: Semantic Similarity: 0.75433,\t retrieve time: 0.002277374267578125,\t generate time: 0.7711033821105957\n",
            "Q:  The Romanesque style continued to affect and inspire  the basic architectural forms throughout which period?\n",
            "A:  The Medieval period.\n",
            "[14]: Semantic Similarity: 0.98503,\t retrieve time: 0.0021224021911621094,\t generate time: 0.7785208225250244\n",
            "Q:  Where did some of the other early forms of calendars originate?\n",
            "A:  Mesoamerica, particularly in ancient Mayan civilization.\n",
            "[15]: Semantic Similarity: 0.6651,\t retrieve time: 0.002147197723388672,\t generate time: 1.1055409908294678\n",
            "Q:  What was Bell's pet's name?\n",
            "A:  There is no mention of Bell having a pet in the provided context.\n",
            "[16]: Semantic Similarity: -0.04637,\t retrieve time: 0.001969575881958008,\t generate time: 1.2790861129760742\n",
            "Q:  What is one country that stayed mostly feudal and created spectacular architecture for its royalty rather than its burghers?\n",
            "A:  England.\n",
            "[17]: Semantic Similarity: 0.95074,\t retrieve time: 0.0026285648345947266,\t generate time: 0.678199052810669\n",
            "Q:  What is one time period in which Gothic architecture flourished?\n",
            "A:  The 12th to 16th century.\n",
            "[18]: Semantic Similarity: 0.64788,\t retrieve time: 0.0024983882904052734,\t generate time: 1.1084139347076416\n",
            "Q:  England and what other country showed differences in architectural style rarely observed anywhere else?\n",
            "A:  England and Spain.\n",
            "[19]: Semantic Similarity: 0.78866,\t retrieve time: 0.0028133392333984375,\t generate time: 0.7979850769042969\n",
            "\n",
            "Prepare time: 0.04685783386230469\n",
            "Average Semantic Similarity: 0.7430531952530146\n",
            "retrieve time: 0.010556566715240478,\t generate time: 0.9795236349105835\n",
            "\n"
          ]
        }
      ]
    }
  ]
}